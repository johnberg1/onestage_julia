{
 "cells": [
  {
   "cell_type": "code",
   "execution_count": 1,
   "metadata": {},
   "outputs": [],
   "source": [
    "using Knet\n",
    "using CUDA\n",
    "using Images\n",
    "using MLDatasets: MNIST\n",
    "import YAML\n",
    "\n",
    "include(\"utils/common.jl\")\n",
    "include(\"src/networks.jl\")"
   ]
  },
  {
   "cell_type": "code",
   "execution_count": 2,
   "metadata": {},
   "outputs": [
    {
     "data": {
      "text/plain": [
       "main (generic function with 1 method)"
      ]
     },
     "execution_count": 2,
     "metadata": {},
     "output_type": "execute_result"
    }
   ],
   "source": [
    "function main()\n",
    "\n",
    "    # ---------------- Configure ----------------\n",
    "    cfg = YAML.load_file(\"configs/dcgan_asymmetric_two_stage_mnist.yml\")\n",
    "\n",
    "    # ---------------- Dataset ----------------\n",
    "    xtrn, _ = MNIST.traindata(Float32);\n",
    "    xtst, _ = MNIST.testdata(Float32);\n",
    "    xtrn = imresize(xtrn, (cfg[\"image_size\"],cfg[\"image_size\"]))\n",
    "    xtst = imresize(xtst, (cfg[\"image_size\"],cfg[\"image_size\"]))\n",
    "    xtrn = normalize(xtrn)\n",
    "    xtst = normalize(xtst)\n",
    "    dtrn = minibatch(xtrn, cfg[\"batch_size\"]; xtype = CuArray)\n",
    "    dtst = minibatch(xtst, cfg[\"batch_size\"]; xtype = CuArray)\n",
    "    println(\"Data Summary:\")\n",
    "    println.(summary.((dtrn,dtst)));\n",
    "\n",
    "    # ---------------- Network ----------------\n",
    "    generator = DCGenerator(; zdim = cfg[\"zdim\"], num_channels = cfg[\"num_channel\"])\n",
    "    discriminator = DCDiscriminator(; num_channels = cfg[\"num_channel\"])\n",
    "\n",
    "\n",
    "    # ---------------- Optimzier ----------------\n",
    "    # TODO\n",
    "\n",
    "    # ---------------- Training ----------------\n",
    "    zdim = cfg[\"zdim\"]\n",
    "    z_fix = CuArray(randn(Float64, (100, zdim, 1, 1)))\n",
    "\n",
    "    x = first(dtst) # Only taking the first minibatch for now, will fix once there is a proper loop\n",
    "    batch_size = size(x)[end]\n",
    "    x = reshape(x, (cfg[\"image_size\"],cfg[\"image_size\"],1,batch_size))\n",
    "\n",
    "    y_real = CuArray(ones(Int32, batch_size))\n",
    "    y_fake = CuArray(zeros(Int32, batch_size))\n",
    "\n",
    "    # ------------ Training Discriminator ------------\n",
    "    z = CuArray(randn(Float64, (1, 1, zdim, batch_size)))\n",
    "    fake = generator(z)\n",
    "\n",
    "    pred_real = discriminator(x)\n",
    "    pred_real = reshape(pred_real, batch_size)\n",
    "    pred_fake = discriminator(fake)\n",
    "    pred_fake = reshape(pred_fake, batch_size)\n",
    "\n",
    "    loss_real = bce(pred_real,y_real)\n",
    "    loss_fake = bce(pred_fake,y_fake)\n",
    "    loss_d = loss_real + loss_fake\n",
    "\n",
    "    # Loss backward, optimizer step\n",
    "\n",
    "    # ------------ Training Generator ------------\n",
    "    z = CuArray(randn(Float64, (1, 1, zdim, batch_size)))\n",
    "    fake = generator(z)\n",
    "    pred_fake = discriminator(fake)\n",
    "    pred_fake = reshape(pred_fake, batch_size)\n",
    "\n",
    "    loss_g = bce(pred_fake,y_real)\n",
    "\n",
    "    # Loss backward, optimizer step\n",
    "    return loss_d, loss_g\n",
    "end"
   ]
  },
  {
   "cell_type": "code",
   "execution_count": 3,
   "metadata": {},
   "outputs": [
    {
     "name": "stdout",
     "output_type": "stream",
     "text": [
      "Data Summary:\n",
      "468-element Knet.Train20.Data{CuArray}\n",
      "78-element Knet.Train20.Data{CuArray}\n"
     ]
    },
    {
     "data": {
      "text/plain": [
       "(1.4429246974693415, 0.4739218986503221)"
      ]
     },
     "execution_count": 3,
     "metadata": {},
     "output_type": "execute_result"
    }
   ],
   "source": [
    "main()"
   ]
  },
  {
   "cell_type": "code",
   "execution_count": null,
   "metadata": {},
   "outputs": [],
   "source": []
  }
 ],
 "metadata": {
  "kernelspec": {
   "display_name": "Julia 1.6.3",
   "language": "julia",
   "name": "julia-1.6"
  },
  "language_info": {
   "file_extension": ".jl",
   "mimetype": "application/julia",
   "name": "julia",
   "version": "1.6.3"
  }
 },
 "nbformat": 4,
 "nbformat_minor": 2
}
