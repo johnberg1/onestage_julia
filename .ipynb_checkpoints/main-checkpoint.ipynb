{
 "cells": [
  {
   "cell_type": "code",
   "execution_count": 133,
   "metadata": {},
   "outputs": [],
   "source": [
    "using Knet\n",
    "using CUDA\n",
    "using Images\n",
    "using MLDatasets: MNIST\n",
    "import YAML\n",
    "\n",
    "include(\"utils/common.jl\")\n",
    "include(\"src/networks.jl\")"
   ]
  },
  {
   "cell_type": "code",
   "execution_count": 134,
   "metadata": {},
   "outputs": [
    {
     "data": {
      "text/plain": [
       "generator_loss (generic function with 1 method)"
      ]
     },
     "execution_count": 134,
     "metadata": {},
     "output_type": "execute_result"
    }
   ],
   "source": [
    "function discriminator_loss(G::DCGenerator,D::DCDiscriminator,x,y_real,y_fake,z,batch_size)\n",
    "    fake = G(z)\n",
    "    \n",
    "    pred_real = D(x)\n",
    "    pred_real = reshape(pred_real, batch_size)\n",
    "    pred_fake = D(fake)\n",
    "    pred_fake = reshape(pred_fake, batch_size)\n",
    "    \n",
    "    loss_real = bce(pred_real, y_real)\n",
    "    loss_fake = bce(pred_fake, y_fake)\n",
    "    loss_d = loss_real + loss_fake\n",
    "    return loss_d\n",
    "end\n",
    "\n",
    "function generator_loss(G::DCGenerator,D::DCDiscriminator,x,y_real,z,batch_size)\n",
    "    fake = G(z)\n",
    "    \n",
    "    pred_fake = D(fake)\n",
    "    pred_fake = reshape(pred_fake, batch_size)\n",
    "    \n",
    "    loss_g = bce(pred_fake, y_real)\n",
    "    return loss_g\n",
    "end"
   ]
  },
  {
   "cell_type": "code",
   "execution_count": 141,
   "metadata": {},
   "outputs": [
    {
     "data": {
      "text/plain": [
       "train_epoch_adv (generic function with 2 methods)"
      ]
     },
     "execution_count": 141,
     "metadata": {},
     "output_type": "execute_result"
    }
   ],
   "source": [
    "function train_epoch_adv(generator::DCGenerator,discriminator::DCDiscriminator,dtrn, optimizer_d, optimizer_g,cfg)\n",
    "    zdim = generator.zdim\n",
    "    loss_d_value = 0.0\n",
    "    loss_g_value = 0.0\n",
    "\n",
    "    for (i,x) in enumerate(dtrn)\n",
    "        batch_size = size(x)[end]\n",
    "        x = reshape(x, (cfg[\"image_size\"],cfg[\"image_size\"],1,batch_size))\n",
    "        y_real = CuArray(ones(Int32, batch_size))\n",
    "        y_fake = CuArray(zeros(Int32, batch_size))\n",
    "        \n",
    "        # ------------ Training Discriminator ------------\n",
    "        z = CuArray(randn(Float64, (1, 1, zdim, batch_size)))\n",
    "        \n",
    "        J_d = @diff discriminator_loss(generator, discriminator, x, y_real, y_fake, z, batch_size)\n",
    "        for (j,p) in enumerate(params(discriminator))\n",
    "            g = grad(J_d, p)\n",
    "            update!(value(p), g, optimizer_d[j])\n",
    "        end\n",
    "        \n",
    "        loss_d_val = value(J_d)\n",
    "        # ------------ Training Generator ------------\n",
    "        z = CuArray(randn(Float64, (1, 1, zdim, batch_size)))\n",
    "        J_g = @diff generator_loss(generator, discriminator, x, y_real, z, batch_size)\n",
    "        for (j,p) in enumerate(params(generator))\n",
    "            g = grad(J_g, p)\n",
    "            update!(value(p), g, optimizer_g[j])\n",
    "        end\n",
    "        \n",
    "        loss_g_val = value(J_g)\n",
    "        \n",
    "        loss_d_value += loss_d_val * batch_size\n",
    "        loss_g_value += loss_g_val * batch_size\n",
    "#         println(\"Minibatch: \" , i)\n",
    "#         println(\"Loss D: \", loss_d_val)\n",
    "#         println(\"Loss G: \", loss_g_val)\n",
    "    end\n",
    "    loss_d_value /= length(dtrn)\n",
    "    loss_g_value /= length(dtrn)\n",
    "    return loss_d_value, loss_g_value\n",
    "end"
   ]
  },
  {
   "cell_type": "code",
   "execution_count": 142,
   "metadata": {},
   "outputs": [
    {
     "data": {
      "text/plain": [
       "main (generic function with 1 method)"
      ]
     },
     "execution_count": 142,
     "metadata": {},
     "output_type": "execute_result"
    }
   ],
   "source": [
    "function main()\n",
    "\n",
    "    # ---------------- Configure ----------------\n",
    "    cfg = YAML.load_file(\"configs/dcgan_asymmetric_two_stage_mnist.yml\")\n",
    "\n",
    "    # ---------------- Dataset ----------------\n",
    "    xtrn, _ = MNIST.traindata(Float32);\n",
    "    xtst, _ = MNIST.testdata(Float32);\n",
    "    xtrn = imresize(xtrn, (cfg[\"image_size\"],cfg[\"image_size\"]))\n",
    "    xtst = imresize(xtst, (cfg[\"image_size\"],cfg[\"image_size\"]))\n",
    "    xtrn = normalize(xtrn)\n",
    "    xtst = normalize(xtst)\n",
    "    xtrn = permutedims(xtrn, (2,1,3))\n",
    "    xtst = permutedims(xtst, (2,1,3))\n",
    "    dtrn = minibatch(xtrn, cfg[\"batch_size\"]; xtype = CuArray)\n",
    "    dtst = minibatch(xtst, cfg[\"batch_size\"]; xtype = CuArray)\n",
    "    println(\"Data Summary:\")\n",
    "    println.(summary.((dtrn,dtst)));\n",
    "\n",
    "    # ---------------- Network ----------------\n",
    "    generator = DCGenerator(; zdim = cfg[\"zdim\"], num_channels = cfg[\"num_channel\"])\n",
    "    discriminator = DCDiscriminator(; num_channels = cfg[\"num_channel\"])\n",
    "\n",
    "\n",
    "    # ---------------- Optimizer ----------------\n",
    "    optimizer_g = init_optimizer(params(generator),cfg[\"optimizer_g\"][\"args\"][\"lr\"],cfg[\"optimizer_g\"][\"args\"][\"betas\"][1],cfg[\"optimizer_g\"][\"args\"][\"betas\"][2])\n",
    "    optimizer_d = init_optimizer(params(discriminator),cfg[\"optimizer_d\"][\"args\"][\"lr\"],cfg[\"optimizer_d\"][\"args\"][\"betas\"][1],cfg[\"optimizer_d\"][\"args\"][\"betas\"][2])\n",
    "\n",
    "    # ---------------- Training ----------------\n",
    "    zdim = cfg[\"zdim\"]\n",
    "    z_fix = CuArray(randn(Float64, (100, zdim, 1, 1)))\n",
    "    \n",
    "    println(\"Starting training...\")\n",
    "    for epoch in 1:10#cfg[\"num_epoch\"]\n",
    "        loss_g, loss_d = train_epoch_adv(generator, discriminator, dtrn, optimizer_d, optimizer_g, cfg)\n",
    "        println(\"Epoch: \", epoch)\n",
    "        println(\"Loss D: \", loss_d)\n",
    "        println(\"Loss G: \", loss_g)\n",
    "    end\n",
    "    \n",
    "    return generator, discriminator\n",
    "end"
   ]
  },
  {
   "cell_type": "code",
   "execution_count": null,
   "metadata": {},
   "outputs": [
    {
     "name": "stdout",
     "output_type": "stream",
     "text": [
      "Data Summary:\n",
      "468-element Knet.Train20.Data{CuArray}\n",
      "78-element Knet.Train20.Data{CuArray}\n",
      "Starting training...\n",
      "Epoch: 1\n",
      "Loss D: 88.72282128313276\n",
      "Loss G: 129.1265911495911\n",
      "Epoch: 2\n",
      "Loss D: 88.72283911082604\n",
      "Loss G: 128.82035087386487\n",
      "Epoch: 3\n",
      "Loss D: 88.72283911049416\n",
      "Loss G: 128.82034248179943\n",
      "Epoch: 4\n",
      "Loss D: 88.72283911023014\n",
      "Loss G: 128.82033988898684\n",
      "Epoch: 5\n",
      "Loss D: 88.72283910927189\n",
      "Loss G: 128.8203383887461\n"
     ]
    }
   ],
   "source": [
    "generator, discriminator = main();"
   ]
  },
  {
   "cell_type": "code",
   "execution_count": 145,
   "metadata": {},
   "outputs": [],
   "source": [
    "z = CuArray(randn(Float64, (1, 1, 100, 1)))\n",
    "fake_img = generator(z)\n",
    "fake_img = permutedims(fake_img[:,:,1])\n",
    "fake_img = Array(fake_img)\n",
    "fake_img = fake_img .* 0.5 .+ 0.5;"
   ]
  },
  {
   "cell_type": "code",
   "execution_count": 146,
   "metadata": {},
   "outputs": [
    {
     "data": {
      "image/png": "[encoded data removed]",
      "text/plain": [
       "64×64 Array{Gray{Float64},2} with eltype Gray{Float64}:\n",
       " Gray{Float64}(0.461297)  Gray{Float64}(0.421133)  …  Gray{Float64}(0.437325)\n",
       " Gray{Float64}(0.535019)  Gray{Float64}(0.399206)     Gray{Float64}(0.472016)\n",
       " Gray{Float64}(0.438932)  Gray{Float64}(0.328179)     Gray{Float64}(0.388596)\n",
       " Gray{Float64}(0.523115)  Gray{Float64}(0.319853)     Gray{Float64}(0.425793)\n",
       " Gray{Float64}(0.456783)  Gray{Float64}(0.247993)     Gray{Float64}(0.353475)\n",
       " Gray{Float64}(0.538774)  Gray{Float64}(0.341356)  …  Gray{Float64}(0.481302)\n",
       " Gray{Float64}(0.453813)  Gray{Float64}(0.307161)     Gray{Float64}(0.390486)\n",
       " Gray{Float64}(0.4854)    Gray{Float64}(0.340195)     Gray{Float64}(0.368466)\n",
       " Gray{Float64}(0.401905)  Gray{Float64}(0.375264)     Gray{Float64}(0.344775)\n",
       " Gray{Float64}(0.553369)  Gray{Float64}(0.3778)       Gray{Float64}(0.479651)\n",
       " Gray{Float64}(0.432947)  Gray{Float64}(0.240359)  …  Gray{Float64}(0.387099)\n",
       " Gray{Float64}(0.453935)  Gray{Float64}(0.391825)     Gray{Float64}(0.426912)\n",
       " Gray{Float64}(0.429092)  Gray{Float64}(0.290249)     Gray{Float64}(0.420501)\n",
       " ⋮                                                 ⋱  \n",
       " Gray{Float64}(0.46251)   Gray{Float64}(0.274369)     Gray{Float64}(0.399861)\n",
       " Gray{Float64}(0.594991)  Gray{Float64}(0.29799)      Gray{Float64}(0.473706)\n",
       " Gray{Float64}(0.432182)  Gray{Float64}(0.365905)     Gray{Float64}(0.379919)\n",
       " Gray{Float64}(0.511356)  Gray{Float64}(0.384406)  …  Gray{Float64}(0.424241)\n",
       " Gray{Float64}(0.464076)  Gray{Float64}(0.386801)     Gray{Float64}(0.335939)\n",
       " Gray{Float64}(0.560005)  Gray{Float64}(0.304946)     Gray{Float64}(0.460453)\n",
       " Gray{Float64}(0.421994)  Gray{Float64}(0.228469)     Gray{Float64}(0.349062)\n",
       " Gray{Float64}(0.462004)  Gray{Float64}(0.27943)      Gray{Float64}(0.400298)\n",
       " Gray{Float64}(0.4421)    Gray{Float64}(0.318222)  …  Gray{Float64}(0.351773)\n",
       " Gray{Float64}(0.539385)  Gray{Float64}(0.227433)     Gray{Float64}(0.456212)\n",
       " Gray{Float64}(0.438229)  Gray{Float64}(0.358736)     Gray{Float64}(0.369942)\n",
       " Gray{Float64}(0.513891)  Gray{Float64}(0.428667)     Gray{Float64}(0.451549)"
      ]
     },
     "execution_count": 146,
     "metadata": {},
     "output_type": "execute_result"
    }
   ],
   "source": [
    "Gray.(fake_img)"
   ]
  },
  {
   "cell_type": "code",
   "execution_count": 83,
   "metadata": {},
   "outputs": [],
   "source": [
    "cfg = YAML.load_file(\"configs/dcgan_asymmetric_two_stage_mnist.yml\")\n",
    "xtrn, _ = MNIST.traindata(Float32);\n",
    "xtst, _ = MNIST.testdata(Float32);\n",
    "xtrn = imresize(xtrn, (64,64))\n",
    "xtst = imresize(xtst, (64,64))\n",
    "xtrn = normalize(xtrn)\n",
    "xtst = normalize(xtst)\n",
    "xtrn = permutedims(xtrn, (2,1,3))\n",
    "xtst = permutedims(xtst, (2,1,3));"
   ]
  },
  {
   "cell_type": "code",
   "execution_count": 75,
   "metadata": {},
   "outputs": [
    {
     "data": {
      "image/png": "[encoded data removed]",
      "text/plain": [
       "64×64 Array{Gray{Float64},2} with eltype Gray{Float64}:\n",
       " Gray{Float64}(-1.0)  Gray{Float64}(-1.0)  …  Gray{Float64}(-1.0)\n",
       " Gray{Float64}(-1.0)  Gray{Float64}(-1.0)     Gray{Float64}(-1.0)\n",
       " Gray{Float64}(-1.0)  Gray{Float64}(-1.0)     Gray{Float64}(-1.0)\n",
       " Gray{Float64}(-1.0)  Gray{Float64}(-1.0)     Gray{Float64}(-1.0)\n",
       " Gray{Float64}(-1.0)  Gray{Float64}(-1.0)     Gray{Float64}(-1.0)\n",
       " Gray{Float64}(-1.0)  Gray{Float64}(-1.0)  …  Gray{Float64}(-1.0)\n",
       " Gray{Float64}(-1.0)  Gray{Float64}(-1.0)     Gray{Float64}(-1.0)\n",
       " Gray{Float64}(-1.0)  Gray{Float64}(-1.0)     Gray{Float64}(-1.0)\n",
       " Gray{Float64}(-1.0)  Gray{Float64}(-1.0)     Gray{Float64}(-1.0)\n",
       " Gray{Float64}(-1.0)  Gray{Float64}(-1.0)     Gray{Float64}(-1.0)\n",
       " Gray{Float64}(-1.0)  Gray{Float64}(-1.0)  …  Gray{Float64}(-1.0)\n",
       " Gray{Float64}(-1.0)  Gray{Float64}(-1.0)     Gray{Float64}(-1.0)\n",
       " Gray{Float64}(-1.0)  Gray{Float64}(-1.0)     Gray{Float64}(-1.0)\n",
       " ⋮                                         ⋱  \n",
       " Gray{Float64}(-1.0)  Gray{Float64}(-1.0)     Gray{Float64}(-1.0)\n",
       " Gray{Float64}(-1.0)  Gray{Float64}(-1.0)     Gray{Float64}(-1.0)\n",
       " Gray{Float64}(-1.0)  Gray{Float64}(-1.0)     Gray{Float64}(-1.0)\n",
       " Gray{Float64}(-1.0)  Gray{Float64}(-1.0)  …  Gray{Float64}(-1.0)\n",
       " Gray{Float64}(-1.0)  Gray{Float64}(-1.0)     Gray{Float64}(-1.0)\n",
       " Gray{Float64}(-1.0)  Gray{Float64}(-1.0)     Gray{Float64}(-1.0)\n",
       " Gray{Float64}(-1.0)  Gray{Float64}(-1.0)     Gray{Float64}(-1.0)\n",
       " Gray{Float64}(-1.0)  Gray{Float64}(-1.0)     Gray{Float64}(-1.0)\n",
       " Gray{Float64}(-1.0)  Gray{Float64}(-1.0)  …  Gray{Float64}(-1.0)\n",
       " Gray{Float64}(-1.0)  Gray{Float64}(-1.0)     Gray{Float64}(-1.0)\n",
       " Gray{Float64}(-1.0)  Gray{Float64}(-1.0)     Gray{Float64}(-1.0)\n",
       " Gray{Float64}(-1.0)  Gray{Float64}(-1.0)     Gray{Float64}(-1.0)"
      ]
     },
     "execution_count": 75,
     "metadata": {},
     "output_type": "execute_result"
    }
   ],
   "source": [
    "sample = xtrn[:,:,1]\n",
    "Gray.(sample)"
   ]
  },
  {
   "cell_type": "code",
   "execution_count": null,
   "metadata": {},
   "outputs": [],
   "source": []
  }
 ],
 "metadata": {
  "kernelspec": {
   "display_name": "Julia 1.6.3",
   "language": "julia",
   "name": "julia-1.6"
  },
  "language_info": {
   "file_extension": ".jl",
   "mimetype": "application/julia",
   "name": "julia",
   "version": "1.6.3"
  }
 },
 "nbformat": 4,
 "nbformat_minor": 2
}
